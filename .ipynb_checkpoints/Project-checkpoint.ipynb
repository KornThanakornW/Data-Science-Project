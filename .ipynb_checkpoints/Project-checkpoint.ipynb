{
 "cells": [
  {
   "cell_type": "code",
   "execution_count": 1,
   "metadata": {},
   "outputs": [],
   "source": [
    "import pandas as pd\n",
    "import seaborn as sns\n",
    "import matplotlib.pyplot as plt"
   ]
  },
  {
   "cell_type": "code",
   "execution_count": 2,
   "metadata": {},
   "outputs": [],
   "source": [
    "df1 = pd.read_csv('accident_2015.csv')"
   ]
  },
  {
   "cell_type": "code",
   "execution_count": 3,
   "metadata": {},
   "outputs": [],
   "source": [
    "df2 = pd.read_csv('person_2015.csv')"
   ]
  },
  {
   "cell_type": "code",
   "execution_count": 4,
   "metadata": {},
   "outputs": [
    {
     "name": "stdout",
     "output_type": "stream",
     "text": [
      "<class 'pandas.core.frame.DataFrame'>\n",
      "RangeIndex: 32538 entries, 0 to 32537\n",
      "Data columns (total 71 columns):\n",
      "Unnamed: 0                                                     32538 non-null int64\n",
      "state_number                                                   32538 non-null int64\n",
      "state_name                                                     32538 non-null object\n",
      "consecutive_number                                             32538 non-null int64\n",
      "number_of_vehicle_forms_submitted_all                          32538 non-null int64\n",
      "number_of_motor_vehicles_in_transport_mvit                     32538 non-null int64\n",
      "number_of_parked_working_vehicles                              32538 non-null int64\n",
      "number_of_forms_submitted_for_persons_not_in_motor_vehicles    32538 non-null int64\n",
      "number_of_persons_not_in_motor_vehicles_in_transport_mvit      32538 non-null int64\n",
      "number_of_persons_in_motor_vehicles_in_transport_mvit          32538 non-null int64\n",
      "number_of_forms_submitted_for_persons_in_motor_vehicles        32538 non-null int64\n",
      "county                                                         32538 non-null int64\n",
      "city                                                           32538 non-null int64\n",
      "day_of_crash                                                   32538 non-null int64\n",
      "month_of_crash                                                 32538 non-null int64\n",
      "year_of_crash                                                  32538 non-null int64\n",
      "day_of_week                                                    32538 non-null int64\n",
      "hour_of_crash                                                  32538 non-null int64\n",
      "minute_of_crash                                                32538 non-null int64\n",
      "national_highway_system                                        32538 non-null int64\n",
      "land_use                                                       32538 non-null int64\n",
      "land_use_name                                                  32538 non-null object\n",
      "functional_system                                              32538 non-null int64\n",
      "functional_system_name                                         32538 non-null object\n",
      "ownership                                                      32538 non-null int64\n",
      "ownership_name                                                 32538 non-null object\n",
      "route_signing                                                  32538 non-null int64\n",
      "route_signing_name                                             32538 non-null object\n",
      "trafficway_identifier                                          32538 non-null object\n",
      "trafficway_identifier_2                                        8530 non-null object\n",
      "milepoint                                                      32538 non-null int64\n",
      "latitude                                                       32538 non-null float64\n",
      "longitude                                                      32538 non-null float64\n",
      "special_jurisdiction                                           32538 non-null int64\n",
      "special_jurisdiction_name                                      32538 non-null object\n",
      "first_harmful_event                                            32538 non-null int64\n",
      "first_harmful_event_name                                       32538 non-null object\n",
      "manner_of_collision                                            32538 non-null int64\n",
      "manner_of_collision_name                                       32538 non-null object\n",
      "relation_to_junction_within_interchange_area                   32538 non-null object\n",
      "relation_to_junction_specific_location                         32538 non-null int64\n",
      "relation_to_junction_specific_location_name                    32538 non-null object\n",
      "type_of_intersection                                           32538 non-null object\n",
      "work_zone                                                      32538 non-null object\n",
      "relation_to_trafficway                                         32538 non-null int64\n",
      "relation_to_trafficway_name                                    32538 non-null object\n",
      "light_condition                                                32538 non-null int64\n",
      "light_condition_name                                           32538 non-null object\n",
      "atmospheric_conditions_1                                       32538 non-null int64\n",
      "atmospheric_conditions_1_name                                  32538 non-null object\n",
      "atmospheric_conditions_2                                       32538 non-null int64\n",
      "atmospheric_conditions_2_name                                  32538 non-null object\n",
      "atmospheric_conditions                                         32538 non-null int64\n",
      "atmospheric_conditions_name                                    32538 non-null object\n",
      "school_bus_related                                             32538 non-null object\n",
      "rail_grade_crossing_identifier                                 32538 non-null object\n",
      "hour_of_notification                                           32538 non-null int64\n",
      "minute_of_notification                                         32538 non-null int64\n",
      "hour_of_arrival_at_scene                                       32538 non-null int64\n",
      "minute_of_arrival_at_scene                                     32538 non-null int64\n",
      "hour_of_ems_arrival_at_hospital                                32538 non-null int64\n",
      "minute_of_ems_arrival_at_hospital                              32538 non-null int64\n",
      "related_factors_crash_level_1                                  32538 non-null int64\n",
      "related_factors_crash_level_1_name                             32538 non-null object\n",
      "related_factors_crash_level_2                                  32538 non-null int64\n",
      "related_factors_crash_level_2_name                             32538 non-null object\n",
      "related_factors_crash_level_3                                  32538 non-null int64\n",
      "related_factors_crash_level_3_name                             32538 non-null object\n",
      "number_of_fatalities                                           32538 non-null int64\n",
      "number_of_drunk_drivers                                        32538 non-null int64\n",
      "timestamp_of_crash                                             32538 non-null object\n",
      "dtypes: float64(2), int64(44), object(25)\n",
      "memory usage: 17.6+ MB\n"
     ]
    }
   ],
   "source": [
    "df1.info()"
   ]
  },
  {
   "cell_type": "markdown",
   "metadata": {},
   "source": [
    "### ตรวจสอบจำนวนชื่อรัฐและเลขแทนแต่ละรัฐ ว่ามีจำนวนเท่ากันหรือไม่"
   ]
  },
  {
   "cell_type": "markdown",
   "metadata": {},
   "source": [
    "พบว่าจำนวนเลขและจำนวนชื่อรัฐมีจำนวนเท่ากัน ซึ่งก็คือจำนวน 51 รัฐ"
   ]
  },
  {
   "cell_type": "code",
   "execution_count": 5,
   "metadata": {},
   "outputs": [
    {
     "data": {
      "text/plain": [
       "51"
      ]
     },
     "execution_count": 5,
     "metadata": {},
     "output_type": "execute_result"
    }
   ],
   "source": [
    "len(df1.state_number.unique())"
   ]
  },
  {
   "cell_type": "code",
   "execution_count": 6,
   "metadata": {
    "scrolled": true
   },
   "outputs": [
    {
     "data": {
      "text/plain": [
       "51"
      ]
     },
     "execution_count": 6,
     "metadata": {},
     "output_type": "execute_result"
    }
   ],
   "source": [
    "len(df1.state_name.unique())"
   ]
  },
  {
   "cell_type": "markdown",
   "metadata": {},
   "source": [
    "ซึ่งจำนวนรัฐมีความถูกต้องตามความเป็นจริง คือ สหรัฐอเมริกาประกอบไปด้วย 50 รัฐ และ 1 เขตปกครองพิเศษ โดยสามารถเรียงลำดับชื่อจาก A-Z ได้ดังนี้"
   ]
  },
  {
   "cell_type": "code",
   "execution_count": 7,
   "metadata": {},
   "outputs": [
    {
     "data": {
      "text/plain": [
       "array(['Alabama', 'Alaska', 'Arizona', 'Arkansas', 'California',\n",
       "       'Colorado', 'Connecticut', 'Delaware', 'District of Columbia',\n",
       "       'Florida', 'Georgia', 'Hawaii', 'Idaho', 'Illinois', 'Indiana',\n",
       "       'Iowa', 'Kansas', 'Kentucky', 'Louisiana', 'Maine', 'Maryland',\n",
       "       'Massachusetts', 'Michigan', 'Minnesota', 'Mississippi',\n",
       "       'Missouri', 'Montana', 'Nebraska', 'Nevada', 'New Hampshire',\n",
       "       'New Jersey', 'New Mexico', 'New York', 'North Carolina',\n",
       "       'North Dakota', 'Ohio', 'Oklahoma', 'Oregon', 'Pennsylvania',\n",
       "       'Rhode Island', 'South Carolina', 'South Dakota', 'Tennessee',\n",
       "       'Texas', 'Utah', 'Vermont', 'Virginia', 'Washington',\n",
       "       'West Virginia', 'Wisconsin', 'Wyoming'], dtype=object)"
      ]
     },
     "execution_count": 7,
     "metadata": {},
     "output_type": "execute_result"
    }
   ],
   "source": [
    "df1.state_name.sort_values().unique()"
   ]
  },
  {
   "cell_type": "markdown",
   "metadata": {},
   "source": [
    "### วิเคราะห์การเกิดอุบัติเหตุทางรถยนต์ในแต่ละเดือน ในปี 2015 ในประเทศสหรัฐอเมริกา"
   ]
  },
  {
   "cell_type": "code",
   "execution_count": 8,
   "metadata": {},
   "outputs": [],
   "source": [
    "df1_month = df1.groupby('month_of_crash').count().state_number"
   ]
  },
  {
   "cell_type": "code",
   "execution_count": 9,
   "metadata": {},
   "outputs": [],
   "source": [
    "df1_month = {'number_of_accident':df1_month}"
   ]
  },
  {
   "cell_type": "code",
   "execution_count": 10,
   "metadata": {},
   "outputs": [],
   "source": [
    "df1_month = pd.DataFrame(df1_month)"
   ]
  },
  {
   "cell_type": "code",
   "execution_count": 11,
   "metadata": {
    "scrolled": false
   },
   "outputs": [],
   "source": [
    "df1_month = df1_month.reset_index()"
   ]
  },
  {
   "cell_type": "code",
   "execution_count": 12,
   "metadata": {
    "scrolled": false
   },
   "outputs": [],
   "source": [
    "theList = ['Jan', 'Feb', 'Mar', 'Apr', 'May', 'Jun', 'Jul', 'Aug', 'Sep', 'Oct', 'Nov', 'Dec']"
   ]
  },
  {
   "cell_type": "code",
   "execution_count": 13,
   "metadata": {},
   "outputs": [],
   "source": [
    "df1_month['month_name'] = theList"
   ]
  },
  {
   "cell_type": "code",
   "execution_count": 14,
   "metadata": {},
   "outputs": [],
   "source": [
    "df1_month = df1_month.set_index('month_of_crash')"
   ]
  },
  {
   "cell_type": "code",
   "execution_count": 15,
   "metadata": {},
   "outputs": [
    {
     "data": {
      "text/html": [
       "<div>\n",
       "<style scoped>\n",
       "    .dataframe tbody tr th:only-of-type {\n",
       "        vertical-align: middle;\n",
       "    }\n",
       "\n",
       "    .dataframe tbody tr th {\n",
       "        vertical-align: top;\n",
       "    }\n",
       "\n",
       "    .dataframe thead th {\n",
       "        text-align: right;\n",
       "    }\n",
       "</style>\n",
       "<table border=\"1\" class=\"dataframe\">\n",
       "  <thead>\n",
       "    <tr style=\"text-align: right;\">\n",
       "      <th></th>\n",
       "      <th>month_name</th>\n",
       "      <th>number_of_accident</th>\n",
       "    </tr>\n",
       "    <tr>\n",
       "      <th>month_of_crash</th>\n",
       "      <th></th>\n",
       "      <th></th>\n",
       "    </tr>\n",
       "  </thead>\n",
       "  <tbody>\n",
       "    <tr>\n",
       "      <td>1</td>\n",
       "      <td>Jan</td>\n",
       "      <td>2371</td>\n",
       "    </tr>\n",
       "    <tr>\n",
       "      <td>2</td>\n",
       "      <td>Feb</td>\n",
       "      <td>1983</td>\n",
       "    </tr>\n",
       "    <tr>\n",
       "      <td>3</td>\n",
       "      <td>Mar</td>\n",
       "      <td>2401</td>\n",
       "    </tr>\n",
       "    <tr>\n",
       "      <td>4</td>\n",
       "      <td>Apr</td>\n",
       "      <td>2439</td>\n",
       "    </tr>\n",
       "    <tr>\n",
       "      <td>5</td>\n",
       "      <td>May</td>\n",
       "      <td>2869</td>\n",
       "    </tr>\n",
       "    <tr>\n",
       "      <td>6</td>\n",
       "      <td>Jun</td>\n",
       "      <td>2790</td>\n",
       "    </tr>\n",
       "    <tr>\n",
       "      <td>7</td>\n",
       "      <td>Jul</td>\n",
       "      <td>3021</td>\n",
       "    </tr>\n",
       "    <tr>\n",
       "      <td>8</td>\n",
       "      <td>Aug</td>\n",
       "      <td>3049</td>\n",
       "    </tr>\n",
       "    <tr>\n",
       "      <td>9</td>\n",
       "      <td>Sep</td>\n",
       "      <td>2904</td>\n",
       "    </tr>\n",
       "    <tr>\n",
       "      <td>10</td>\n",
       "      <td>Oct</td>\n",
       "      <td>3070</td>\n",
       "    </tr>\n",
       "    <tr>\n",
       "      <td>11</td>\n",
       "      <td>Nov</td>\n",
       "      <td>2780</td>\n",
       "    </tr>\n",
       "    <tr>\n",
       "      <td>12</td>\n",
       "      <td>Dec</td>\n",
       "      <td>2861</td>\n",
       "    </tr>\n",
       "  </tbody>\n",
       "</table>\n",
       "</div>"
      ],
      "text/plain": [
       "               month_name  number_of_accident\n",
       "month_of_crash                               \n",
       "1                     Jan                2371\n",
       "2                     Feb                1983\n",
       "3                     Mar                2401\n",
       "4                     Apr                2439\n",
       "5                     May                2869\n",
       "6                     Jun                2790\n",
       "7                     Jul                3021\n",
       "8                     Aug                3049\n",
       "9                     Sep                2904\n",
       "10                    Oct                3070\n",
       "11                    Nov                2780\n",
       "12                    Dec                2861"
      ]
     },
     "execution_count": 15,
     "metadata": {},
     "output_type": "execute_result"
    }
   ],
   "source": [
    "df1_month = df1_month[['month_name','number_of_accident']]\n",
    "df1_month"
   ]
  },
  {
   "cell_type": "code",
   "execution_count": 16,
   "metadata": {},
   "outputs": [
    {
     "data": {
      "text/plain": [
       "<seaborn.axisgrid.FacetGrid at 0x7fb91b49c210>"
      ]
     },
     "execution_count": 16,
     "metadata": {},
     "output_type": "execute_result"
    },
    {
     "data": {
      "image/png": "[encoded data removed]",
      "text/plain": [
       "<Figure size 360x360 with 1 Axes>"
      ]
     },
     "metadata": {
      "needs_background": "light"
     },
     "output_type": "display_data"
    }
   ],
   "source": [
    "sns.relplot(data=df1_month, x='month_name', y='number_of_accident', kind='line')"
   ]
  },
  {
   "cell_type": "markdown",
   "metadata": {},
   "source": [
    "จากกราฟจะเห็นว่าช่วงเดือนกรกฎาคม ถึงเดือนตุลาคม จะมีการเกิดอุบัติเหตุที่ค่อนข้างสูง เมื่อเทียบกับเดือนอื่นๆ"
   ]
  },
  {
   "cell_type": "code",
   "execution_count": 17,
   "metadata": {},
   "outputs": [
    {
     "data": {
      "text/plain": [
       "month_of_crash\n",
       "10    Oct\n",
       "Name: month_name, dtype: object"
      ]
     },
     "execution_count": 17,
     "metadata": {},
     "output_type": "execute_result"
    }
   ],
   "source": [
    "df1_month.loc[df1_month.number_of_accident == df1_month.number_of_accident.max(),'month_name']"
   ]
  },
  {
   "cell_type": "code",
   "execution_count": 18,
   "metadata": {},
   "outputs": [
    {
     "data": {
      "text/plain": [
       "3070"
      ]
     },
     "execution_count": 18,
     "metadata": {},
     "output_type": "execute_result"
    }
   ],
   "source": [
    "df1_month.number_of_accident.max()"
   ]
  },
  {
   "cell_type": "markdown",
   "metadata": {},
   "source": [
    "จากข้อมูลจะพบว่าเดือนที่มีการเกิดอุบัติเหตุสูงที่สุดคือเดือนตุลาคม(10 October) จำนวน 3,070 ครั้ง"
   ]
  },
  {
   "cell_type": "markdown",
   "metadata": {},
   "source": [
    "### วิเคราะห์การเกิดอุบัติเหตุในแต่ละวันของสัปดาห์"
   ]
  },
  {
   "cell_type": "code",
   "execution_count": 19,
   "metadata": {},
   "outputs": [
    {
     "data": {
      "text/html": [
       "<div>\n",
       "<style scoped>\n",
       "    .dataframe tbody tr th:only-of-type {\n",
       "        vertical-align: middle;\n",
       "    }\n",
       "\n",
       "    .dataframe tbody tr th {\n",
       "        vertical-align: top;\n",
       "    }\n",
       "\n",
       "    .dataframe thead th {\n",
       "        text-align: right;\n",
       "    }\n",
       "</style>\n",
       "<table border=\"1\" class=\"dataframe\">\n",
       "  <thead>\n",
       "    <tr style=\"text-align: right;\">\n",
       "      <th></th>\n",
       "      <th>day_of_week</th>\n",
       "      <th>number_of_accident</th>\n",
       "    </tr>\n",
       "  </thead>\n",
       "  <tbody>\n",
       "    <tr>\n",
       "      <td>0</td>\n",
       "      <td>1</td>\n",
       "      <td>5298</td>\n",
       "    </tr>\n",
       "    <tr>\n",
       "      <td>1</td>\n",
       "      <td>2</td>\n",
       "      <td>4038</td>\n",
       "    </tr>\n",
       "    <tr>\n",
       "      <td>2</td>\n",
       "      <td>3</td>\n",
       "      <td>3985</td>\n",
       "    </tr>\n",
       "    <tr>\n",
       "      <td>3</td>\n",
       "      <td>4</td>\n",
       "      <td>4182</td>\n",
       "    </tr>\n",
       "    <tr>\n",
       "      <td>4</td>\n",
       "      <td>5</td>\n",
       "      <td>4460</td>\n",
       "    </tr>\n",
       "    <tr>\n",
       "      <td>5</td>\n",
       "      <td>6</td>\n",
       "      <td>4916</td>\n",
       "    </tr>\n",
       "    <tr>\n",
       "      <td>6</td>\n",
       "      <td>7</td>\n",
       "      <td>5659</td>\n",
       "    </tr>\n",
       "  </tbody>\n",
       "</table>\n",
       "</div>"
      ],
      "text/plain": [
       "   day_of_week  number_of_accident\n",
       "0            1                5298\n",
       "1            2                4038\n",
       "2            3                3985\n",
       "3            4                4182\n",
       "4            5                4460\n",
       "5            6                4916\n",
       "6            7                5659"
      ]
     },
     "execution_count": 19,
     "metadata": {},
     "output_type": "execute_result"
    }
   ],
   "source": [
    "df1_day = df1.groupby('day_of_week').count().state_number\n",
    "df1_day = {'number_of_accident':df1_day}\n",
    "df1_day = pd.DataFrame(df1_day)\n",
    "df1_day = df1_day.reset_index()\n",
    "df1_day"
   ]
  },
  {
   "cell_type": "markdown",
   "metadata": {},
   "source": [
    "เพิ่มคอลัมน์วันของสัปดาห์เพื่อให้ข้อมูลอ่านได้ง่ายขึ้น โดยข้อมูลนี้จะเริ่มแทนเลข 1 ด้วยวันอาทิตย์"
   ]
  },
  {
   "cell_type": "code",
   "execution_count": 20,
   "metadata": {},
   "outputs": [],
   "source": [
    "dayList = ['Sunday', 'Monday', 'Tuesday', 'Wednesday', 'Thursday', 'Friday', 'Saturday']"
   ]
  },
  {
   "cell_type": "code",
   "execution_count": 21,
   "metadata": {},
   "outputs": [
    {
     "data": {
      "text/html": [
       "<div>\n",
       "<style scoped>\n",
       "    .dataframe tbody tr th:only-of-type {\n",
       "        vertical-align: middle;\n",
       "    }\n",
       "\n",
       "    .dataframe tbody tr th {\n",
       "        vertical-align: top;\n",
       "    }\n",
       "\n",
       "    .dataframe thead th {\n",
       "        text-align: right;\n",
       "    }\n",
       "</style>\n",
       "<table border=\"1\" class=\"dataframe\">\n",
       "  <thead>\n",
       "    <tr style=\"text-align: right;\">\n",
       "      <th></th>\n",
       "      <th>day_name</th>\n",
       "      <th>number_of_accident</th>\n",
       "    </tr>\n",
       "    <tr>\n",
       "      <th>day_of_week</th>\n",
       "      <th></th>\n",
       "      <th></th>\n",
       "    </tr>\n",
       "  </thead>\n",
       "  <tbody>\n",
       "    <tr>\n",
       "      <td>1</td>\n",
       "      <td>Sunday</td>\n",
       "      <td>5298</td>\n",
       "    </tr>\n",
       "    <tr>\n",
       "      <td>2</td>\n",
       "      <td>Monday</td>\n",
       "      <td>4038</td>\n",
       "    </tr>\n",
       "    <tr>\n",
       "      <td>3</td>\n",
       "      <td>Tuesday</td>\n",
       "      <td>3985</td>\n",
       "    </tr>\n",
       "    <tr>\n",
       "      <td>4</td>\n",
       "      <td>Wednesday</td>\n",
       "      <td>4182</td>\n",
       "    </tr>\n",
       "    <tr>\n",
       "      <td>5</td>\n",
       "      <td>Thursday</td>\n",
       "      <td>4460</td>\n",
       "    </tr>\n",
       "    <tr>\n",
       "      <td>6</td>\n",
       "      <td>Friday</td>\n",
       "      <td>4916</td>\n",
       "    </tr>\n",
       "    <tr>\n",
       "      <td>7</td>\n",
       "      <td>Saturday</td>\n",
       "      <td>5659</td>\n",
       "    </tr>\n",
       "  </tbody>\n",
       "</table>\n",
       "</div>"
      ],
      "text/plain": [
       "              day_name  number_of_accident\n",
       "day_of_week                               \n",
       "1               Sunday                5298\n",
       "2               Monday                4038\n",
       "3              Tuesday                3985\n",
       "4            Wednesday                4182\n",
       "5             Thursday                4460\n",
       "6               Friday                4916\n",
       "7             Saturday                5659"
      ]
     },
     "execution_count": 21,
     "metadata": {},
     "output_type": "execute_result"
    }
   ],
   "source": [
    "df1_day['day_name'] = dayList\n",
    "df1_day = df1_day.set_index('day_of_week')\n",
    "df1_day = df1_day[['day_name','number_of_accident']]\n",
    "df1_day"
   ]
  },
  {
   "cell_type": "code",
   "execution_count": 22,
   "metadata": {},
   "outputs": [
    {
     "data": {
      "text/plain": [
       "<seaborn.axisgrid.FacetGrid at 0x7fb91b3f0910>"
      ]
     },
     "execution_count": 22,
     "metadata": {},
     "output_type": "execute_result"
    },
    {
     "data": {
      "image/png": "[encoded data removed]",
      "text/plain": [
       "<Figure size 360x360 with 1 Axes>"
      ]
     },
     "metadata": {
      "needs_background": "light"
     },
     "output_type": "display_data"
    }
   ],
   "source": [
    "graph = sns.relplot(data=df1_day, x='day_name', y='number_of_accident', kind='line')\n",
    "graph.set_xticklabels(rotation=20)"
   ]
  },
  {
   "cell_type": "markdown",
   "metadata": {},
   "source": [
    "จากกราฟจะพบว่า อุบัติเหตุเกิดขึ้นมากในช่วงวันเสาร์-อาทิตย์ โดยอุบัติเหตุในวันเสาร์มีจำนวนครั้งการเดิดที่มากที่สุด และเกิดขึ้นน้อยในช่วงกลางๆของสัปดาห์ โดยเฉพาะวันจันทร์และวันอังคาร"
   ]
  },
  {
   "cell_type": "markdown",
   "metadata": {},
   "source": [
    "### วิเคราะห์เส้นทางที่มีการเกิดอุบัติเหตุ"
   ]
  },
  {
   "cell_type": "code",
   "execution_count": 23,
   "metadata": {},
   "outputs": [
    {
     "data": {
      "text/html": [
       "<div>\n",
       "<style scoped>\n",
       "    .dataframe tbody tr th:only-of-type {\n",
       "        vertical-align: middle;\n",
       "    }\n",
       "\n",
       "    .dataframe tbody tr th {\n",
       "        vertical-align: top;\n",
       "    }\n",
       "\n",
       "    .dataframe thead th {\n",
       "        text-align: right;\n",
       "    }\n",
       "</style>\n",
       "<table border=\"1\" class=\"dataframe\">\n",
       "  <thead>\n",
       "    <tr style=\"text-align: right;\">\n",
       "      <th></th>\n",
       "      <th>number_of_accident</th>\n",
       "    </tr>\n",
       "    <tr>\n",
       "      <th>trafficway_identifier</th>\n",
       "      <th></th>\n",
       "    </tr>\n",
       "  </thead>\n",
       "  <tbody>\n",
       "    <tr>\n",
       "      <td>1-69/US-59 SOUTHWEST FWY</td>\n",
       "      <td>1</td>\n",
       "    </tr>\n",
       "    <tr>\n",
       "      <td>1000 W</td>\n",
       "      <td>1</td>\n",
       "    </tr>\n",
       "    <tr>\n",
       "      <td>100TH AVE</td>\n",
       "      <td>1</td>\n",
       "    </tr>\n",
       "    <tr>\n",
       "      <td>100TH ST</td>\n",
       "      <td>1</td>\n",
       "    </tr>\n",
       "    <tr>\n",
       "      <td>101ST AVE NE</td>\n",
       "      <td>1</td>\n",
       "    </tr>\n",
       "    <tr>\n",
       "      <td>...</td>\n",
       "      <td>...</td>\n",
       "    </tr>\n",
       "    <tr>\n",
       "      <td>ZIEGLERVILLE RD</td>\n",
       "      <td>1</td>\n",
       "    </tr>\n",
       "    <tr>\n",
       "      <td>ZIONSVILLE RD</td>\n",
       "      <td>1</td>\n",
       "    </tr>\n",
       "    <tr>\n",
       "      <td>ZOO DRIVE</td>\n",
       "      <td>1</td>\n",
       "    </tr>\n",
       "    <tr>\n",
       "      <td>ZUNI RD</td>\n",
       "      <td>1</td>\n",
       "    </tr>\n",
       "    <tr>\n",
       "      <td>ZUNI RD SE</td>\n",
       "      <td>2</td>\n",
       "    </tr>\n",
       "  </tbody>\n",
       "</table>\n",
       "<p>15678 rows × 1 columns</p>\n",
       "</div>"
      ],
      "text/plain": [
       "                          number_of_accident\n",
       "trafficway_identifier                       \n",
       "1-69/US-59 SOUTHWEST FWY                   1\n",
       "1000 W                                     1\n",
       "100TH AVE                                  1\n",
       "100TH ST                                   1\n",
       "101ST AVE NE                               1\n",
       "...                                      ...\n",
       "ZIEGLERVILLE RD                            1\n",
       "ZIONSVILLE RD                              1\n",
       "ZOO DRIVE                                  1\n",
       "ZUNI RD                                    1\n",
       "ZUNI RD SE                                 2\n",
       "\n",
       "[15678 rows x 1 columns]"
      ]
     },
     "execution_count": 23,
     "metadata": {},
     "output_type": "execute_result"
    }
   ],
   "source": [
    "traffic_way = df1.groupby('trafficway_identifier').count().state_number\n",
    "traffic_way = {'number_of_accident':traffic_way}\n",
    "traffic_way = pd.DataFrame(traffic_way)\n",
    "traffic_way"
   ]
  },
  {
   "cell_type": "code",
   "execution_count": 24,
   "metadata": {},
   "outputs": [
    {
     "data": {
      "text/html": [
       "<div>\n",
       "<style scoped>\n",
       "    .dataframe tbody tr th:only-of-type {\n",
       "        vertical-align: middle;\n",
       "    }\n",
       "\n",
       "    .dataframe tbody tr th {\n",
       "        vertical-align: top;\n",
       "    }\n",
       "\n",
       "    .dataframe thead th {\n",
       "        text-align: right;\n",
       "    }\n",
       "</style>\n",
       "<table border=\"1\" class=\"dataframe\">\n",
       "  <thead>\n",
       "    <tr style=\"text-align: right;\">\n",
       "      <th></th>\n",
       "      <th>number_of_accident</th>\n",
       "    </tr>\n",
       "    <tr>\n",
       "      <th>trafficway_identifier</th>\n",
       "      <th></th>\n",
       "    </tr>\n",
       "  </thead>\n",
       "  <tbody>\n",
       "    <tr>\n",
       "      <td>1-69/US-59 SOUTHWEST FWY</td>\n",
       "      <td>1</td>\n",
       "    </tr>\n",
       "    <tr>\n",
       "      <td>RIVER BOTTOMS RD</td>\n",
       "      <td>1</td>\n",
       "    </tr>\n",
       "    <tr>\n",
       "      <td>RIVER PARK DR</td>\n",
       "      <td>1</td>\n",
       "    </tr>\n",
       "    <tr>\n",
       "      <td>RIVER RD.</td>\n",
       "      <td>1</td>\n",
       "    </tr>\n",
       "    <tr>\n",
       "      <td>RIVERDALE AVE</td>\n",
       "      <td>1</td>\n",
       "    </tr>\n",
       "    <tr>\n",
       "      <td>...</td>\n",
       "      <td>...</td>\n",
       "    </tr>\n",
       "    <tr>\n",
       "      <td>I-40</td>\n",
       "      <td>159</td>\n",
       "    </tr>\n",
       "    <tr>\n",
       "      <td>US-1</td>\n",
       "      <td>190</td>\n",
       "    </tr>\n",
       "    <tr>\n",
       "      <td>I-75</td>\n",
       "      <td>204</td>\n",
       "    </tr>\n",
       "    <tr>\n",
       "      <td>I-95</td>\n",
       "      <td>213</td>\n",
       "    </tr>\n",
       "    <tr>\n",
       "      <td>I-10</td>\n",
       "      <td>274</td>\n",
       "    </tr>\n",
       "  </tbody>\n",
       "</table>\n",
       "<p>15678 rows × 1 columns</p>\n",
       "</div>"
      ],
      "text/plain": [
       "                          number_of_accident\n",
       "trafficway_identifier                       \n",
       "1-69/US-59 SOUTHWEST FWY                   1\n",
       "RIVER BOTTOMS RD                           1\n",
       "RIVER PARK DR                              1\n",
       "RIVER RD.                                  1\n",
       "RIVERDALE AVE                              1\n",
       "...                                      ...\n",
       "I-40                                     159\n",
       "US-1                                     190\n",
       "I-75                                     204\n",
       "I-95                                     213\n",
       "I-10                                     274\n",
       "\n",
       "[15678 rows x 1 columns]"
      ]
     },
     "execution_count": 24,
     "metadata": {},
     "output_type": "execute_result"
    }
   ],
   "source": [
    "traffic_way.sort_values('number_of_accident')"
   ]
  },
  {
   "cell_type": "code",
   "execution_count": 25,
   "metadata": {},
   "outputs": [
    {
     "data": {
      "text/html": [
       "<div>\n",
       "<style scoped>\n",
       "    .dataframe tbody tr th:only-of-type {\n",
       "        vertical-align: middle;\n",
       "    }\n",
       "\n",
       "    .dataframe tbody tr th {\n",
       "        vertical-align: top;\n",
       "    }\n",
       "\n",
       "    .dataframe thead th {\n",
       "        text-align: right;\n",
       "    }\n",
       "</style>\n",
       "<table border=\"1\" class=\"dataframe\">\n",
       "  <thead>\n",
       "    <tr style=\"text-align: right;\">\n",
       "      <th></th>\n",
       "      <th>number_of_accident</th>\n",
       "    </tr>\n",
       "    <tr>\n",
       "      <th>trafficway_identifier</th>\n",
       "      <th></th>\n",
       "    </tr>\n",
       "  </thead>\n",
       "  <tbody>\n",
       "    <tr>\n",
       "      <td>I-10</td>\n",
       "      <td>274</td>\n",
       "    </tr>\n",
       "    <tr>\n",
       "      <td>I-95</td>\n",
       "      <td>213</td>\n",
       "    </tr>\n",
       "    <tr>\n",
       "      <td>I-75</td>\n",
       "      <td>204</td>\n",
       "    </tr>\n",
       "    <tr>\n",
       "      <td>US-1</td>\n",
       "      <td>190</td>\n",
       "    </tr>\n",
       "    <tr>\n",
       "      <td>I-40</td>\n",
       "      <td>159</td>\n",
       "    </tr>\n",
       "    <tr>\n",
       "      <td>I-5</td>\n",
       "      <td>149</td>\n",
       "    </tr>\n",
       "    <tr>\n",
       "      <td>I-20</td>\n",
       "      <td>141</td>\n",
       "    </tr>\n",
       "    <tr>\n",
       "      <td>I-70</td>\n",
       "      <td>131</td>\n",
       "    </tr>\n",
       "    <tr>\n",
       "      <td>I-80</td>\n",
       "      <td>130</td>\n",
       "    </tr>\n",
       "    <tr>\n",
       "      <td>US-17</td>\n",
       "      <td>114</td>\n",
       "    </tr>\n",
       "  </tbody>\n",
       "</table>\n",
       "</div>"
      ],
      "text/plain": [
       "                       number_of_accident\n",
       "trafficway_identifier                    \n",
       "I-10                                  274\n",
       "I-95                                  213\n",
       "I-75                                  204\n",
       "US-1                                  190\n",
       "I-40                                  159\n",
       "I-5                                   149\n",
       "I-20                                  141\n",
       "I-70                                  131\n",
       "I-80                                  130\n",
       "US-17                                 114"
      ]
     },
     "execution_count": 25,
     "metadata": {},
     "output_type": "execute_result"
    }
   ],
   "source": [
    "traffic_way.sort_values('number_of_accident', ascending=False).head(10)"
   ]
  },
  {
   "cell_type": "markdown",
   "metadata": {},
   "source": [
    "ตารางด้านบนแสดงถึง 10 อันดับ เส้นทางที่มีการเกิดอุบัติเหตุมากที่สุดเรียงจางมากไปน้อย\n",
    "โดยเส้นทางที่ติดสามอันดับแรก ไดแก่ \n",
    "1. I-10 (Interstate 10) เป็นทางหลวงอินเตอร์สเตตที่ตั้งอยู่ทางตอนใต้ของประเทศสหรัฐอเมริกา ทอดตัวจากตะวันออกไปตะวันตก จากชายฝั่งมหาสมุทรแปซิฟิกซึ่งต่อจากทางหลวงแคลิฟอร์เนีย หมายเลข 1 ในเมืองแซนตามอนิกา รัฐแคลิฟอร์เนีย มุ่งสู่อินเตอร์สเตต 95 เมืองแจ็กสันวิลล์ รัฐฟลอริดา \n",
    " <br>( สืบค้นเมื่อ 24/02/2021 https://th.wikipedia.org/wiki/อินเตอร์สเตต_10 )\n",
    "2. I-95 (Interstate 95) เป็นทางหลวงอินเตอร์สเตตสายหลักในพื้นที่ชายฝั่งตะวันออกของสหรัฐ มีเส้นทางขนานไปกับชายฝั่งมหาสมุทรแอตแลนติก และทางหลวงสหรัฐหมายเลข 1 จากรัฐฟลอริดาไปจนถึงรัฐเมน โดยทั่วไปแล้ว อินเตอร์สเตต 95 จะผ่านเมืองใหญ่ที่อยู่ริมทะเลและพื้นที่ปริมณฑล ได้แก่ ในทางตะวันออกเฉียงใต้ของสหรัฐ เช่น ไมแอมี แจ็กสันวิลล์ ซาวันนาห์ เฟย์เอตต์วิลล์ และริชมอนด์ ส่วนในทางแอตแลนติกกลางไปจนถึงตะวันออกเฉียงเหนือ เช่น วอชิงตัน ดี.ซี. บัลติมอร์ วิลมิงตัน ฟิลาเดลเฟีย นครนิวยอร์ก นิวเฮเวน โพรวิเดนซ์ บอสตัน และพอร์ตแลนด์\n",
    " <br>( สืบค้นเมื่อ 24/02/2021 https://th.wikipedia.org/wiki/อินเตอร์สเตต_95 )\n",
    "3. I-75 (Interstate 75) เป็นทางหลวงอินเตอร์สเตตสายหลักในภูมิภาคเกรตเลกส์และภูมิภาคสหรัฐตะวันออกเฉียงใต้ของสหรัฐอเมริกา หมายเลขที่ลงท้ายด้วยเลข 5 หมายความว่าเป็นทางหลวงสายหลักของประเทศในแนวเหนือ–ใต้ มีเส้นทางจากตอนใต้ของรัฐฟลอริดาไปจนถึงทางเหนือของรัฐมิชิแกน\n",
    " <br>( สืบค้นเมื่อ 24/02/2021 https://th.wikipedia.org/wiki/อินเตอร์สเตต_75 )"
   ]
  },
  {
   "cell_type": "markdown",
   "metadata": {},
   "source": [
    "### วิเคราะห์จำนวนผู้เสียชีวิต"
   ]
  },
  {
   "cell_type": "code",
   "execution_count": 26,
   "metadata": {},
   "outputs": [],
   "source": [
    "fatal_df = df1.loc[:,['state_name','number_of_fatalities']]"
   ]
  },
  {
   "cell_type": "code",
   "execution_count": 27,
   "metadata": {
    "scrolled": false
   },
   "outputs": [
    {
     "data": {
      "text/html": [
       "<div>\n",
       "<style scoped>\n",
       "    .dataframe tbody tr th:only-of-type {\n",
       "        vertical-align: middle;\n",
       "    }\n",
       "\n",
       "    .dataframe tbody tr th {\n",
       "        vertical-align: top;\n",
       "    }\n",
       "\n",
       "    .dataframe thead th {\n",
       "        text-align: right;\n",
       "    }\n",
       "</style>\n",
       "<table border=\"1\" class=\"dataframe\">\n",
       "  <thead>\n",
       "    <tr style=\"text-align: right;\">\n",
       "      <th></th>\n",
       "      <th>state_name</th>\n",
       "      <th>number_of_fatalities</th>\n",
       "    </tr>\n",
       "  </thead>\n",
       "  <tbody>\n",
       "    <tr>\n",
       "      <td>4269</td>\n",
       "      <td>Texas</td>\n",
       "      <td>10</td>\n",
       "    </tr>\n",
       "    <tr>\n",
       "      <td>10288</td>\n",
       "      <td>Florida</td>\n",
       "      <td>8</td>\n",
       "    </tr>\n",
       "    <tr>\n",
       "      <td>21810</td>\n",
       "      <td>Tennessee</td>\n",
       "      <td>6</td>\n",
       "    </tr>\n",
       "    <tr>\n",
       "      <td>2228</td>\n",
       "      <td>Texas</td>\n",
       "      <td>6</td>\n",
       "    </tr>\n",
       "    <tr>\n",
       "      <td>31850</td>\n",
       "      <td>South Carolina</td>\n",
       "      <td>6</td>\n",
       "    </tr>\n",
       "    <tr>\n",
       "      <td>...</td>\n",
       "      <td>...</td>\n",
       "      <td>...</td>\n",
       "    </tr>\n",
       "    <tr>\n",
       "      <td>11280</td>\n",
       "      <td>Georgia</td>\n",
       "      <td>1</td>\n",
       "    </tr>\n",
       "    <tr>\n",
       "      <td>11279</td>\n",
       "      <td>Georgia</td>\n",
       "      <td>1</td>\n",
       "    </tr>\n",
       "    <tr>\n",
       "      <td>11277</td>\n",
       "      <td>Georgia</td>\n",
       "      <td>1</td>\n",
       "    </tr>\n",
       "    <tr>\n",
       "      <td>11276</td>\n",
       "      <td>Georgia</td>\n",
       "      <td>1</td>\n",
       "    </tr>\n",
       "    <tr>\n",
       "      <td>32537</td>\n",
       "      <td>District of Columbia</td>\n",
       "      <td>1</td>\n",
       "    </tr>\n",
       "  </tbody>\n",
       "</table>\n",
       "<p>32538 rows × 2 columns</p>\n",
       "</div>"
      ],
      "text/plain": [
       "                 state_name  number_of_fatalities\n",
       "4269                  Texas                    10\n",
       "10288               Florida                     8\n",
       "21810             Tennessee                     6\n",
       "2228                  Texas                     6\n",
       "31850        South Carolina                     6\n",
       "...                     ...                   ...\n",
       "11280               Georgia                     1\n",
       "11279               Georgia                     1\n",
       "11277               Georgia                     1\n",
       "11276               Georgia                     1\n",
       "32537  District of Columbia                     1\n",
       "\n",
       "[32538 rows x 2 columns]"
      ]
     },
     "execution_count": 27,
     "metadata": {},
     "output_type": "execute_result"
    }
   ],
   "source": [
    "fatal_df.sort_values('number_of_fatalities',ascending=False)"
   ]
  },
  {
   "cell_type": "markdown",
   "metadata": {},
   "source": [
    "จากตารางพบว่าในปี 2015 มีการเกิดอุบัติเหตุทางรถยนต์ที่มีผู้เสียชีวิตมากที่สุด 10 คน ที่รัฐเท็กซัส"
   ]
  },
  {
   "cell_type": "code",
   "execution_count": 28,
   "metadata": {},
   "outputs": [
    {
     "data": {
      "text/plain": [
       "35484"
      ]
     },
     "execution_count": 28,
     "metadata": {},
     "output_type": "execute_result"
    }
   ],
   "source": [
    "fatal_df.number_of_fatalities.sum()"
   ]
  },
  {
   "cell_type": "markdown",
   "metadata": {},
   "source": [
    "และพบว่าในปีนี้มีผู้เสียชีวิตจากอุบัติเหตุรถยนต์จำนวน 35,484 คน"
   ]
  },
  {
   "cell_type": "markdown",
   "metadata": {},
   "source": [
    "### วิเคราะห์อุบัติเหตุที่เกิดจาการดื่มสุรา"
   ]
  },
  {
   "cell_type": "code",
   "execution_count": 29,
   "metadata": {},
   "outputs": [
    {
     "data": {
      "text/html": [
       "<div>\n",
       "<style scoped>\n",
       "    .dataframe tbody tr th:only-of-type {\n",
       "        vertical-align: middle;\n",
       "    }\n",
       "\n",
       "    .dataframe tbody tr th {\n",
       "        vertical-align: top;\n",
       "    }\n",
       "\n",
       "    .dataframe thead th {\n",
       "        text-align: right;\n",
       "    }\n",
       "</style>\n",
       "<table border=\"1\" class=\"dataframe\">\n",
       "  <thead>\n",
       "    <tr style=\"text-align: right;\">\n",
       "      <th></th>\n",
       "      <th>state_name</th>\n",
       "      <th>number_of_drunk_drivers</th>\n",
       "    </tr>\n",
       "  </thead>\n",
       "  <tbody>\n",
       "    <tr>\n",
       "      <td>0</td>\n",
       "      <td>Iowa</td>\n",
       "      <td>1</td>\n",
       "    </tr>\n",
       "    <tr>\n",
       "      <td>1</td>\n",
       "      <td>Iowa</td>\n",
       "      <td>1</td>\n",
       "    </tr>\n",
       "    <tr>\n",
       "      <td>2</td>\n",
       "      <td>Iowa</td>\n",
       "      <td>0</td>\n",
       "    </tr>\n",
       "    <tr>\n",
       "      <td>3</td>\n",
       "      <td>Iowa</td>\n",
       "      <td>0</td>\n",
       "    </tr>\n",
       "    <tr>\n",
       "      <td>4</td>\n",
       "      <td>Iowa</td>\n",
       "      <td>0</td>\n",
       "    </tr>\n",
       "    <tr>\n",
       "      <td>...</td>\n",
       "      <td>...</td>\n",
       "      <td>...</td>\n",
       "    </tr>\n",
       "    <tr>\n",
       "      <td>32533</td>\n",
       "      <td>District of Columbia</td>\n",
       "      <td>0</td>\n",
       "    </tr>\n",
       "    <tr>\n",
       "      <td>32534</td>\n",
       "      <td>District of Columbia</td>\n",
       "      <td>1</td>\n",
       "    </tr>\n",
       "    <tr>\n",
       "      <td>32535</td>\n",
       "      <td>District of Columbia</td>\n",
       "      <td>1</td>\n",
       "    </tr>\n",
       "    <tr>\n",
       "      <td>32536</td>\n",
       "      <td>District of Columbia</td>\n",
       "      <td>0</td>\n",
       "    </tr>\n",
       "    <tr>\n",
       "      <td>32537</td>\n",
       "      <td>District of Columbia</td>\n",
       "      <td>1</td>\n",
       "    </tr>\n",
       "  </tbody>\n",
       "</table>\n",
       "<p>32538 rows × 2 columns</p>\n",
       "</div>"
      ],
      "text/plain": [
       "                 state_name  number_of_drunk_drivers\n",
       "0                      Iowa                        1\n",
       "1                      Iowa                        1\n",
       "2                      Iowa                        0\n",
       "3                      Iowa                        0\n",
       "4                      Iowa                        0\n",
       "...                     ...                      ...\n",
       "32533  District of Columbia                        0\n",
       "32534  District of Columbia                        1\n",
       "32535  District of Columbia                        1\n",
       "32536  District of Columbia                        0\n",
       "32537  District of Columbia                        1\n",
       "\n",
       "[32538 rows x 2 columns]"
      ]
     },
     "execution_count": 29,
     "metadata": {},
     "output_type": "execute_result"
    }
   ],
   "source": [
    "drunk_df = df1.loc[:,['state_name','number_of_drunk_drivers']]\n",
    "drunk_df"
   ]
  },
  {
   "cell_type": "code",
   "execution_count": 30,
   "metadata": {},
   "outputs": [
    {
     "data": {
      "text/html": [
       "<div>\n",
       "<style scoped>\n",
       "    .dataframe tbody tr th:only-of-type {\n",
       "        vertical-align: middle;\n",
       "    }\n",
       "\n",
       "    .dataframe tbody tr th {\n",
       "        vertical-align: top;\n",
       "    }\n",
       "\n",
       "    .dataframe thead th {\n",
       "        text-align: right;\n",
       "    }\n",
       "</style>\n",
       "<table border=\"1\" class=\"dataframe\">\n",
       "  <thead>\n",
       "    <tr style=\"text-align: right;\">\n",
       "      <th></th>\n",
       "      <th>number_of_drunk_cases</th>\n",
       "    </tr>\n",
       "    <tr>\n",
       "      <th>state_name</th>\n",
       "      <th></th>\n",
       "    </tr>\n",
       "  </thead>\n",
       "  <tbody>\n",
       "    <tr>\n",
       "      <td>California</td>\n",
       "      <td>959</td>\n",
       "    </tr>\n",
       "    <tr>\n",
       "      <td>Texas</td>\n",
       "      <td>849</td>\n",
       "    </tr>\n",
       "    <tr>\n",
       "      <td>Florida</td>\n",
       "      <td>626</td>\n",
       "    </tr>\n",
       "    <tr>\n",
       "      <td>North Carolina</td>\n",
       "      <td>389</td>\n",
       "    </tr>\n",
       "    <tr>\n",
       "      <td>Pennsylvania</td>\n",
       "      <td>332</td>\n",
       "    </tr>\n",
       "  </tbody>\n",
       "</table>\n",
       "</div>"
      ],
      "text/plain": [
       "                number_of_drunk_cases\n",
       "state_name                           \n",
       "California                        959\n",
       "Texas                             849\n",
       "Florida                           626\n",
       "North Carolina                    389\n",
       "Pennsylvania                      332"
      ]
     },
     "execution_count": 30,
     "metadata": {},
     "output_type": "execute_result"
    }
   ],
   "source": [
    "drunk_state_df = drunk_df.loc[drunk_df.number_of_drunk_drivers > 0,:]\n",
    "drunk_state_df = drunk_state_df.groupby('state_name').count()\n",
    "drunk_state_df = drunk_state_df.rename(columns={'number_of_drunk_drivers':'number_of_drunk_cases'})\n",
    "drunk_state_df.sort_values('number_of_drunk_cases', ascending=False).head(5)"
   ]
  },
  {
   "cell_type": "code",
   "execution_count": 31,
   "metadata": {},
   "outputs": [
    {
     "data": {
      "text/html": [
       "<div>\n",
       "<style scoped>\n",
       "    .dataframe tbody tr th:only-of-type {\n",
       "        vertical-align: middle;\n",
       "    }\n",
       "\n",
       "    .dataframe tbody tr th {\n",
       "        vertical-align: top;\n",
       "    }\n",
       "\n",
       "    .dataframe thead th {\n",
       "        text-align: right;\n",
       "    }\n",
       "</style>\n",
       "<table border=\"1\" class=\"dataframe\">\n",
       "  <thead>\n",
       "    <tr style=\"text-align: right;\">\n",
       "      <th></th>\n",
       "      <th>number_of_drunk_cases</th>\n",
       "    </tr>\n",
       "    <tr>\n",
       "      <th>state_name</th>\n",
       "      <th></th>\n",
       "    </tr>\n",
       "  </thead>\n",
       "  <tbody>\n",
       "    <tr>\n",
       "      <td>District of Columbia</td>\n",
       "      <td>5</td>\n",
       "    </tr>\n",
       "    <tr>\n",
       "      <td>Vermont</td>\n",
       "      <td>14</td>\n",
       "    </tr>\n",
       "    <tr>\n",
       "      <td>Rhode Island</td>\n",
       "      <td>18</td>\n",
       "    </tr>\n",
       "    <tr>\n",
       "      <td>Alaska</td>\n",
       "      <td>24</td>\n",
       "    </tr>\n",
       "    <tr>\n",
       "      <td>Hawaii</td>\n",
       "      <td>26</td>\n",
       "    </tr>\n",
       "  </tbody>\n",
       "</table>\n",
       "</div>"
      ],
      "text/plain": [
       "                      number_of_drunk_cases\n",
       "state_name                                 \n",
       "District of Columbia                      5\n",
       "Vermont                                  14\n",
       "Rhode Island                             18\n",
       "Alaska                                   24\n",
       "Hawaii                                   26"
      ]
     },
     "execution_count": 31,
     "metadata": {},
     "output_type": "execute_result"
    }
   ],
   "source": [
    "drunk_state_df.sort_values('number_of_drunk_cases', ascending=True).head(5)"
   ]
  },
  {
   "cell_type": "markdown",
   "metadata": {},
   "source": [
    "จากตารางพบว่ารัฐที่มีอุบัติเหตุทางรถยนต์ที่เกิดจากการดื่มสุราน้อยที่สุด 3 ลำดับ เรียงตามจำนวนการเกิดน้อยที่สุดไปมาก ได้แก่ 'District of Columbia', 'Vermont', 'Rhode Island'"
   ]
  },
  {
   "cell_type": "code",
   "execution_count": 32,
   "metadata": {},
   "outputs": [],
   "source": [
    "drunk_state_df = drunk_state_df.reset_index()"
   ]
  },
  {
   "cell_type": "code",
   "execution_count": 33,
   "metadata": {},
   "outputs": [
    {
     "data": {
      "text/plain": [
       "<seaborn.axisgrid.FacetGrid at 0x7fb91b1d9a50>"
      ]
     },
     "execution_count": 33,
     "metadata": {},
     "output_type": "execute_result"
    },
    {
     "data": {
      "image/png": "[encoded data removed]",
      "text/plain": [
       "<Figure size 900x360 with 1 Axes>"
      ]
     },
     "metadata": {
      "needs_background": "light"
     },
     "output_type": "display_data"
    }
   ],
   "source": [
    "g = sns.catplot(data=drunk_state_df, x='state_name', y='number_of_drunk_cases', kind='bar', aspect=2.5)\n",
    "g.set_xticklabels(rotation=75)"
   ]
  },
  {
   "cell_type": "markdown",
   "metadata": {},
   "source": [
    "จากตารางและกราฟด้านบนแสดงให้เห็นว่า รัฐที่มีอุบัติเหตุทางรถยนต์จากการดื่มสุรามากที่สุด คือ รัฐแคลิฟอร์เนีย และมีจำนวนรองลงมาคือ รัฐเท็กซัส และรัฐฟลอริา ตามลำดับ"
   ]
  },
  {
   "cell_type": "code",
   "execution_count": 34,
   "metadata": {},
   "outputs": [
    {
     "data": {
      "text/plain": [
       "180.68627450980392"
      ]
     },
     "execution_count": 34,
     "metadata": {},
     "output_type": "execute_result"
    }
   ],
   "source": [
    "drunk_state_df.number_of_drunk_cases.mean()"
   ]
  },
  {
   "cell_type": "code",
   "execution_count": 35,
   "metadata": {},
   "outputs": [
    {
     "data": {
      "text/plain": [
       "959"
      ]
     },
     "execution_count": 35,
     "metadata": {},
     "output_type": "execute_result"
    }
   ],
   "source": [
    "drunk_state_df.number_of_drunk_cases.max()"
   ]
  },
  {
   "cell_type": "code",
   "execution_count": 36,
   "metadata": {},
   "outputs": [
    {
     "data": {
      "text/plain": [
       "5.307542051003798"
      ]
     },
     "execution_count": 36,
     "metadata": {},
     "output_type": "execute_result"
    }
   ],
   "source": [
    "drunk_state_df.number_of_drunk_cases.max() / drunk_state_df.number_of_drunk_cases.mean()"
   ]
  },
  {
   "cell_type": "markdown",
   "metadata": {},
   "source": [
    "และจากการคำนวณพบว่ารัฐที่มีการเกิดอุบัติเหตุมากที่สุดนั้นมีจำนวนอุบัติเหตุมากกว่าค่าเฉลี่ยถึง 5.30 เท่า โดยจำนวนครั้งการเกิดที่มากที่สุด คือ 959 ครั้ง \n",
    "และค่าเฉลี่ยการเกิดอุบัติเหตุ ประมาณ 181 ครั้ง "
   ]
  },
  {
   "cell_type": "code",
   "execution_count": 37,
   "metadata": {},
   "outputs": [
    {
     "data": {
      "text/plain": [
       "32538"
      ]
     },
     "execution_count": 37,
     "metadata": {},
     "output_type": "execute_result"
    }
   ],
   "source": [
    "len(df1)"
   ]
  },
  {
   "cell_type": "code",
   "execution_count": 38,
   "metadata": {},
   "outputs": [
    {
     "data": {
      "text/plain": [
       "9215"
      ]
     },
     "execution_count": 38,
     "metadata": {},
     "output_type": "execute_result"
    }
   ],
   "source": [
    "d = len(df1.loc[df1.number_of_drunk_drivers > 0])       #จำนวนเคสที่มีการดื่มสุรา\n",
    "d"
   ]
  },
  {
   "cell_type": "code",
   "execution_count": 39,
   "metadata": {},
   "outputs": [
    {
     "data": {
      "text/plain": [
       "23323"
      ]
     },
     "execution_count": 39,
     "metadata": {},
     "output_type": "execute_result"
    }
   ],
   "source": [
    "n = len(df1.loc[df1.number_of_drunk_drivers == 0])      #จำนวนเคสที่ไม่มีการดื่มสุรา\n",
    "n"
   ]
  },
  {
   "cell_type": "code",
   "execution_count": 40,
   "metadata": {},
   "outputs": [
    {
     "data": {
      "image/png": "[encoded data removed]",
      "text/plain": [
       "<Figure size 432x288 with 1 Axes>"
      ]
     },
     "metadata": {},
     "output_type": "display_data"
    }
   ],
   "source": [
    "labels = ['Drunk', 'Normal']\n",
    "sizes = [d, n]\n",
    "explode = (0.1, 0.1)  \n",
    "fig1, ax1 = plt.subplots()\n",
    "ax1.pie(sizes, explode=explode, labels=labels, autopct='%1.1f%%',\n",
    "        shadow=True, startangle=90)\n",
    "ax1.axis('equal')  \n",
    "plt.tight_layout()\n",
    "plt.show()"
   ]
  },
  {
   "cell_type": "markdown",
   "metadata": {},
   "source": [
    "จากกราฟจะเห็นว่าการดื่มสุราไม่ได้เป็นสาเหตุหลักที่ทำให้เกิดอุบัติเหตุทางรถยนต์ ซึ่งขัดกลับสมมติฐานของคนทั่วไปที่ว่า \"การดื่มสุราเป็นสาเหตุหลักที่ทำให้เกิดอุบัติเหตุบนท้องถนน\""
   ]
  }
 ],
 "metadata": {
  "kernelspec": {
   "display_name": "Python 3",
   "language": "python",
   "name": "python3"
  },
  "language_info": {
   "codemirror_mode": {
    "name": "ipython",
    "version": 3
   },
   "file_extension": ".py",
   "mimetype": "text/x-python",
   "name": "python",
   "nbconvert_exporter": "python",
   "pygments_lexer": "ipython3",
   "version": "3.7.4"
  }
 },
 "nbformat": 4,
 "nbformat_minor": 2
}
